{
 "cells": [
  {
   "cell_type": "markdown",
   "metadata": {},
   "source": [
    "# Kaggle-Google play application dataset\n",
    "\n",
    "# (statistical pratice)\n",
    "\n",
    "## 2019-04-30 start"
   ]
  },
  {
   "cell_type": "markdown",
   "metadata": {},
   "source": [
    "# Summary\n",
    "\n",
    "## Describe statistics\n",
    "\n",
    "- Data except rating is dispersion\n",
    "\n",
    "\n",
    "- The distribution of data except rating is possitive distribution,\n",
    "\n",
    "  and rating is negative distribution\n",
    "  \n",
    "  \n",
    "- All kurtosis of data is leptokurtic\n",
    "\n",
    "\n",
    "## Category--Rating\n",
    "\n",
    "- Education apps has the highest average rating than other apps\n",
    "\n",
    "- Dating apps has the lowest average rating\n",
    "\n",
    "- Game apps is 6th,which is higher than health and fitness apps\n",
    "\n",
    "\n",
    "## Interval for all apps rating mean\n",
    "\n",
    "- The 95% confidence interval for all apps rating mean is \n",
    "\n",
    "  (4.19129~4.19187)\n",
    "\n",
    "\n",
    "## all apps rating mean v.s. sample data rating mean\n",
    "\n",
    "- H0:mu1=4.19\n",
    "\n",
    "\n",
    "- H1:mu1!=4.19\n",
    "\n",
    "\n",
    "- all apps rating mean is different from sample data rating mean\n",
    "\n",
    "\n",
    "## Correlation--Rating and Reviews\n",
    "\n",
    "- Rating and Reviews has small correlation\n",
    "\n",
    "\n",
    "- If use least-square method,the residual range is large\n",
    "\n",
    "  which means using this method has less effect\n",
    "  \n",
    "  \n",
    "- With scatter,can see correlation is small"
   ]
  },
  {
   "cell_type": "code",
   "execution_count": 46,
   "metadata": {},
   "outputs": [],
   "source": [
    "import numpy as np\n",
    "import pandas as pd\n",
    "import matplotlib.pyplot as plt\n",
    "import seaborn as sns\n",
    "from scipy import stats\n",
    "import re\n",
    "import math\n",
    "sns.set()"
   ]
  },
  {
   "cell_type": "code",
   "execution_count": 2,
   "metadata": {},
   "outputs": [],
   "source": [
    "original=pd.read_csv('./googleplaystore.csv')"
   ]
  },
  {
   "cell_type": "code",
   "execution_count": 3,
   "metadata": {},
   "outputs": [
    {
     "name": "stdout",
     "output_type": "stream",
     "text": [
      "                                                 App        Category  Rating  \\\n",
      "0     Photo Editor & Candy Camera & Grid & ScrapBook  ART_AND_DESIGN     4.1   \n",
      "1                                Coloring book moana  ART_AND_DESIGN     3.9   \n",
      "2  U Launcher Lite – FREE Live Cool Themes, Hide ...  ART_AND_DESIGN     4.7   \n",
      "3                              Sketch - Draw & Paint  ART_AND_DESIGN     4.5   \n",
      "4              Pixel Draw - Number Art Coloring Book  ART_AND_DESIGN     4.3   \n",
      "\n",
      "  Reviews  Size     Installs  Type Price Content Rating  \\\n",
      "0     159   19M      10,000+  Free     0       Everyone   \n",
      "1     967   14M     500,000+  Free     0       Everyone   \n",
      "2   87510  8.7M   5,000,000+  Free     0       Everyone   \n",
      "3  215644   25M  50,000,000+  Free     0           Teen   \n",
      "4     967  2.8M     100,000+  Free     0       Everyone   \n",
      "\n",
      "                      Genres      Last Updated         Current Ver  \\\n",
      "0               Art & Design   January 7, 2018               1.0.0   \n",
      "1  Art & Design;Pretend Play  January 15, 2018               2.0.0   \n",
      "2               Art & Design    August 1, 2018               1.2.4   \n",
      "3               Art & Design      June 8, 2018  Varies with device   \n",
      "4    Art & Design;Creativity     June 20, 2018                 1.1   \n",
      "\n",
      "    Android Ver  \n",
      "0  4.0.3 and up  \n",
      "1  4.0.3 and up  \n",
      "2  4.0.3 and up  \n",
      "3    4.2 and up  \n",
      "4    4.4 and up  \n",
      "(10841, 13)\n",
      "Index(['App', 'Category', 'Rating', 'Reviews', 'Size', 'Installs', 'Type',\n",
      "       'Price', 'Content Rating', 'Genres', 'Last Updated', 'Current Ver',\n",
      "       'Android Ver'],\n",
      "      dtype='object')\n",
      "App                  0\n",
      "Category             0\n",
      "Rating            1474\n",
      "Reviews              0\n",
      "Size                 0\n",
      "Installs             0\n",
      "Type                 1\n",
      "Price                0\n",
      "Content Rating       1\n",
      "Genres               0\n",
      "Last Updated         0\n",
      "Current Ver          8\n",
      "Android Ver          3\n",
      "dtype: int64\n"
     ]
    }
   ],
   "source": [
    "print(original.head())\n",
    "print(original.shape)\n",
    "print(original.columns)\n",
    "print(original.isnull().sum())"
   ]
  },
  {
   "cell_type": "markdown",
   "metadata": {},
   "source": [
    "# Data Preprocessing"
   ]
  },
  {
   "cell_type": "code",
   "execution_count": 4,
   "metadata": {},
   "outputs": [],
   "source": [
    "original['Rating']=original['Rating'].fillna(round(np.mean(original['Rating']),2))"
   ]
  },
  {
   "cell_type": "code",
   "execution_count": 5,
   "metadata": {},
   "outputs": [],
   "source": [
    "original.dropna(inplace=True)"
   ]
  },
  {
   "cell_type": "code",
   "execution_count": 6,
   "metadata": {},
   "outputs": [
    {
     "name": "stdout",
     "output_type": "stream",
     "text": [
      "App               0\n",
      "Category          0\n",
      "Rating            0\n",
      "Reviews           0\n",
      "Size              0\n",
      "Installs          0\n",
      "Type              0\n",
      "Price             0\n",
      "Content Rating    0\n",
      "Genres            0\n",
      "Last Updated      0\n",
      "Current Ver       0\n",
      "Android Ver       0\n",
      "dtype: int64\n",
      "(10829, 13)\n"
     ]
    }
   ],
   "source": [
    "print(original.isnull().sum())\n",
    "print(original.shape)"
   ]
  },
  {
   "cell_type": "code",
   "execution_count": 7,
   "metadata": {},
   "outputs": [],
   "source": [
    "for i in range(original.index.shape[0]):\n",
    "    original.iloc[i,4]=re.sub(r'[M]','',str(original.iloc[i,4]))"
   ]
  },
  {
   "cell_type": "code",
   "execution_count": 8,
   "metadata": {},
   "outputs": [
    {
     "data": {
      "text/html": [
       "<div>\n",
       "<style scoped>\n",
       "    .dataframe tbody tr th:only-of-type {\n",
       "        vertical-align: middle;\n",
       "    }\n",
       "\n",
       "    .dataframe tbody tr th {\n",
       "        vertical-align: top;\n",
       "    }\n",
       "\n",
       "    .dataframe thead th {\n",
       "        text-align: right;\n",
       "    }\n",
       "</style>\n",
       "<table border=\"1\" class=\"dataframe\">\n",
       "  <thead>\n",
       "    <tr style=\"text-align: right;\">\n",
       "      <th></th>\n",
       "      <th>App</th>\n",
       "      <th>Category</th>\n",
       "      <th>Rating</th>\n",
       "      <th>Reviews</th>\n",
       "      <th>Size</th>\n",
       "      <th>Installs</th>\n",
       "      <th>Type</th>\n",
       "      <th>Price</th>\n",
       "      <th>Content Rating</th>\n",
       "      <th>Genres</th>\n",
       "      <th>Last Updated</th>\n",
       "      <th>Current Ver</th>\n",
       "      <th>Android Ver</th>\n",
       "    </tr>\n",
       "  </thead>\n",
       "  <tbody>\n",
       "    <tr>\n",
       "      <th>0</th>\n",
       "      <td>Photo Editor &amp; Candy Camera &amp; Grid &amp; ScrapBook</td>\n",
       "      <td>ART_AND_DESIGN</td>\n",
       "      <td>4.1</td>\n",
       "      <td>159</td>\n",
       "      <td>19</td>\n",
       "      <td>10,000+</td>\n",
       "      <td>Free</td>\n",
       "      <td>0</td>\n",
       "      <td>Everyone</td>\n",
       "      <td>Art &amp; Design</td>\n",
       "      <td>January 7, 2018</td>\n",
       "      <td>1.0.0</td>\n",
       "      <td>4.0.3 and up</td>\n",
       "    </tr>\n",
       "    <tr>\n",
       "      <th>1</th>\n",
       "      <td>Coloring book moana</td>\n",
       "      <td>ART_AND_DESIGN</td>\n",
       "      <td>3.9</td>\n",
       "      <td>967</td>\n",
       "      <td>14</td>\n",
       "      <td>500,000+</td>\n",
       "      <td>Free</td>\n",
       "      <td>0</td>\n",
       "      <td>Everyone</td>\n",
       "      <td>Art &amp; Design;Pretend Play</td>\n",
       "      <td>January 15, 2018</td>\n",
       "      <td>2.0.0</td>\n",
       "      <td>4.0.3 and up</td>\n",
       "    </tr>\n",
       "    <tr>\n",
       "      <th>2</th>\n",
       "      <td>U Launcher Lite – FREE Live Cool Themes, Hide ...</td>\n",
       "      <td>ART_AND_DESIGN</td>\n",
       "      <td>4.7</td>\n",
       "      <td>87510</td>\n",
       "      <td>8.7</td>\n",
       "      <td>5,000,000+</td>\n",
       "      <td>Free</td>\n",
       "      <td>0</td>\n",
       "      <td>Everyone</td>\n",
       "      <td>Art &amp; Design</td>\n",
       "      <td>August 1, 2018</td>\n",
       "      <td>1.2.4</td>\n",
       "      <td>4.0.3 and up</td>\n",
       "    </tr>\n",
       "    <tr>\n",
       "      <th>3</th>\n",
       "      <td>Sketch - Draw &amp; Paint</td>\n",
       "      <td>ART_AND_DESIGN</td>\n",
       "      <td>4.5</td>\n",
       "      <td>215644</td>\n",
       "      <td>25</td>\n",
       "      <td>50,000,000+</td>\n",
       "      <td>Free</td>\n",
       "      <td>0</td>\n",
       "      <td>Teen</td>\n",
       "      <td>Art &amp; Design</td>\n",
       "      <td>June 8, 2018</td>\n",
       "      <td>Varies with device</td>\n",
       "      <td>4.2 and up</td>\n",
       "    </tr>\n",
       "    <tr>\n",
       "      <th>4</th>\n",
       "      <td>Pixel Draw - Number Art Coloring Book</td>\n",
       "      <td>ART_AND_DESIGN</td>\n",
       "      <td>4.3</td>\n",
       "      <td>967</td>\n",
       "      <td>2.8</td>\n",
       "      <td>100,000+</td>\n",
       "      <td>Free</td>\n",
       "      <td>0</td>\n",
       "      <td>Everyone</td>\n",
       "      <td>Art &amp; Design;Creativity</td>\n",
       "      <td>June 20, 2018</td>\n",
       "      <td>1.1</td>\n",
       "      <td>4.4 and up</td>\n",
       "    </tr>\n",
       "  </tbody>\n",
       "</table>\n",
       "</div>"
      ],
      "text/plain": [
       "                                                 App        Category  Rating  \\\n",
       "0     Photo Editor & Candy Camera & Grid & ScrapBook  ART_AND_DESIGN     4.1   \n",
       "1                                Coloring book moana  ART_AND_DESIGN     3.9   \n",
       "2  U Launcher Lite – FREE Live Cool Themes, Hide ...  ART_AND_DESIGN     4.7   \n",
       "3                              Sketch - Draw & Paint  ART_AND_DESIGN     4.5   \n",
       "4              Pixel Draw - Number Art Coloring Book  ART_AND_DESIGN     4.3   \n",
       "\n",
       "  Reviews Size     Installs  Type Price Content Rating  \\\n",
       "0     159   19      10,000+  Free     0       Everyone   \n",
       "1     967   14     500,000+  Free     0       Everyone   \n",
       "2   87510  8.7   5,000,000+  Free     0       Everyone   \n",
       "3  215644   25  50,000,000+  Free     0           Teen   \n",
       "4     967  2.8     100,000+  Free     0       Everyone   \n",
       "\n",
       "                      Genres      Last Updated         Current Ver  \\\n",
       "0               Art & Design   January 7, 2018               1.0.0   \n",
       "1  Art & Design;Pretend Play  January 15, 2018               2.0.0   \n",
       "2               Art & Design    August 1, 2018               1.2.4   \n",
       "3               Art & Design      June 8, 2018  Varies with device   \n",
       "4    Art & Design;Creativity     June 20, 2018                 1.1   \n",
       "\n",
       "    Android Ver  \n",
       "0  4.0.3 and up  \n",
       "1  4.0.3 and up  \n",
       "2  4.0.3 and up  \n",
       "3    4.2 and up  \n",
       "4    4.4 and up  "
      ]
     },
     "execution_count": 8,
     "metadata": {},
     "output_type": "execute_result"
    }
   ],
   "source": [
    "original.head()"
   ]
  },
  {
   "cell_type": "code",
   "execution_count": 9,
   "metadata": {},
   "outputs": [],
   "source": [
    "for i in range(original.index.shape[0]):\n",
    "    original.iloc[i,5]=re.sub(r'\\D','',str(original.iloc[i,5]))"
   ]
  },
  {
   "cell_type": "code",
   "execution_count": 10,
   "metadata": {},
   "outputs": [],
   "source": [
    "for i in range(original.index.shape[0]):\n",
    "    original.iloc[i,4]=re.sub(r'[k]','000',str(original.iloc[i,4]))"
   ]
  },
  {
   "cell_type": "code",
   "execution_count": 11,
   "metadata": {},
   "outputs": [],
   "source": [
    "for i in range(original.index.shape[0]):\n",
    "    if original.iloc[i,4]=='Varies with device':\n",
    "        original.iloc[i,4]=0"
   ]
  },
  {
   "cell_type": "code",
   "execution_count": 12,
   "metadata": {},
   "outputs": [
    {
     "name": "stdout",
     "output_type": "stream",
     "text": [
      "130.31913325330135\n"
     ]
    }
   ],
   "source": [
    "original['Size']=original['Size'].astype('float')\n",
    "print(original['Size'].mean()/100)"
   ]
  },
  {
   "cell_type": "code",
   "execution_count": 13,
   "metadata": {},
   "outputs": [],
   "source": [
    "for i in range(original.index.shape[0]):\n",
    "    if original.iloc[i,4]==0:\n",
    "        original.iloc[i,4]=round(np.mean(original['Size'])/100,1)"
   ]
  },
  {
   "cell_type": "code",
   "execution_count": 14,
   "metadata": {},
   "outputs": [],
   "source": [
    "original['Reviews']=original['Reviews'].astype('int')\n",
    "original['Installs']=original['Installs'].astype('int')"
   ]
  },
  {
   "cell_type": "code",
   "execution_count": 15,
   "metadata": {},
   "outputs": [
    {
     "data": {
      "text/plain": [
       "array(['0', '$4.99', '$3.99', '$6.99', '$1.49'], dtype=object)"
      ]
     },
     "execution_count": 15,
     "metadata": {},
     "output_type": "execute_result"
    }
   ],
   "source": [
    "original['Price'].unique()[0:5]"
   ]
  },
  {
   "cell_type": "code",
   "execution_count": 16,
   "metadata": {},
   "outputs": [],
   "source": [
    "for i in range(original.index.shape[0]):\n",
    "    original.iloc[i,7]=re.sub('[$]','',str(original.iloc[i,7]))"
   ]
  },
  {
   "cell_type": "code",
   "execution_count": 17,
   "metadata": {},
   "outputs": [],
   "source": [
    "original['Price']=original['Price'].astype('float')"
   ]
  },
  {
   "cell_type": "code",
   "execution_count": 18,
   "metadata": {},
   "outputs": [
    {
     "data": {
      "text/html": [
       "<div>\n",
       "<style scoped>\n",
       "    .dataframe tbody tr th:only-of-type {\n",
       "        vertical-align: middle;\n",
       "    }\n",
       "\n",
       "    .dataframe tbody tr th {\n",
       "        vertical-align: top;\n",
       "    }\n",
       "\n",
       "    .dataframe thead th {\n",
       "        text-align: right;\n",
       "    }\n",
       "</style>\n",
       "<table border=\"1\" class=\"dataframe\">\n",
       "  <thead>\n",
       "    <tr style=\"text-align: right;\">\n",
       "      <th></th>\n",
       "      <th>App</th>\n",
       "      <th>Category</th>\n",
       "      <th>Rating</th>\n",
       "      <th>Reviews</th>\n",
       "      <th>Size</th>\n",
       "      <th>Installs</th>\n",
       "      <th>Type</th>\n",
       "      <th>Price</th>\n",
       "      <th>Content Rating</th>\n",
       "      <th>Genres</th>\n",
       "      <th>Last Updated</th>\n",
       "      <th>Current Ver</th>\n",
       "      <th>Android Ver</th>\n",
       "    </tr>\n",
       "  </thead>\n",
       "  <tbody>\n",
       "    <tr>\n",
       "      <th>10836</th>\n",
       "      <td>Sya9a Maroc - FR</td>\n",
       "      <td>FAMILY</td>\n",
       "      <td>4.50</td>\n",
       "      <td>38</td>\n",
       "      <td>53.0</td>\n",
       "      <td>5000</td>\n",
       "      <td>Free</td>\n",
       "      <td>0.0</td>\n",
       "      <td>Everyone</td>\n",
       "      <td>Education</td>\n",
       "      <td>July 25, 2017</td>\n",
       "      <td>1.48</td>\n",
       "      <td>4.1 and up</td>\n",
       "    </tr>\n",
       "    <tr>\n",
       "      <th>10837</th>\n",
       "      <td>Fr. Mike Schmitz Audio Teachings</td>\n",
       "      <td>FAMILY</td>\n",
       "      <td>5.00</td>\n",
       "      <td>4</td>\n",
       "      <td>3.6</td>\n",
       "      <td>100</td>\n",
       "      <td>Free</td>\n",
       "      <td>0.0</td>\n",
       "      <td>Everyone</td>\n",
       "      <td>Education</td>\n",
       "      <td>July 6, 2018</td>\n",
       "      <td>1.0</td>\n",
       "      <td>4.1 and up</td>\n",
       "    </tr>\n",
       "    <tr>\n",
       "      <th>10838</th>\n",
       "      <td>Parkinson Exercices FR</td>\n",
       "      <td>MEDICAL</td>\n",
       "      <td>4.19</td>\n",
       "      <td>3</td>\n",
       "      <td>9.5</td>\n",
       "      <td>1000</td>\n",
       "      <td>Free</td>\n",
       "      <td>0.0</td>\n",
       "      <td>Everyone</td>\n",
       "      <td>Medical</td>\n",
       "      <td>January 20, 2017</td>\n",
       "      <td>1.0</td>\n",
       "      <td>2.2 and up</td>\n",
       "    </tr>\n",
       "    <tr>\n",
       "      <th>10839</th>\n",
       "      <td>The SCP Foundation DB fr nn5n</td>\n",
       "      <td>BOOKS_AND_REFERENCE</td>\n",
       "      <td>4.50</td>\n",
       "      <td>114</td>\n",
       "      <td>130.5</td>\n",
       "      <td>1000</td>\n",
       "      <td>Free</td>\n",
       "      <td>0.0</td>\n",
       "      <td>Mature 17+</td>\n",
       "      <td>Books &amp; Reference</td>\n",
       "      <td>January 19, 2015</td>\n",
       "      <td>Varies with device</td>\n",
       "      <td>Varies with device</td>\n",
       "    </tr>\n",
       "    <tr>\n",
       "      <th>10840</th>\n",
       "      <td>iHoroscope - 2018 Daily Horoscope &amp; Astrology</td>\n",
       "      <td>LIFESTYLE</td>\n",
       "      <td>4.50</td>\n",
       "      <td>398307</td>\n",
       "      <td>19.0</td>\n",
       "      <td>10000000</td>\n",
       "      <td>Free</td>\n",
       "      <td>0.0</td>\n",
       "      <td>Everyone</td>\n",
       "      <td>Lifestyle</td>\n",
       "      <td>July 25, 2018</td>\n",
       "      <td>Varies with device</td>\n",
       "      <td>Varies with device</td>\n",
       "    </tr>\n",
       "  </tbody>\n",
       "</table>\n",
       "</div>"
      ],
      "text/plain": [
       "                                                 App             Category  \\\n",
       "10836                               Sya9a Maroc - FR               FAMILY   \n",
       "10837               Fr. Mike Schmitz Audio Teachings               FAMILY   \n",
       "10838                         Parkinson Exercices FR              MEDICAL   \n",
       "10839                  The SCP Foundation DB fr nn5n  BOOKS_AND_REFERENCE   \n",
       "10840  iHoroscope - 2018 Daily Horoscope & Astrology            LIFESTYLE   \n",
       "\n",
       "       Rating  Reviews   Size  Installs  Type  Price Content Rating  \\\n",
       "10836    4.50       38   53.0      5000  Free    0.0       Everyone   \n",
       "10837    5.00        4    3.6       100  Free    0.0       Everyone   \n",
       "10838    4.19        3    9.5      1000  Free    0.0       Everyone   \n",
       "10839    4.50      114  130.5      1000  Free    0.0     Mature 17+   \n",
       "10840    4.50   398307   19.0  10000000  Free    0.0       Everyone   \n",
       "\n",
       "                  Genres      Last Updated         Current Ver  \\\n",
       "10836          Education     July 25, 2017                1.48   \n",
       "10837          Education      July 6, 2018                 1.0   \n",
       "10838            Medical  January 20, 2017                 1.0   \n",
       "10839  Books & Reference  January 19, 2015  Varies with device   \n",
       "10840          Lifestyle     July 25, 2018  Varies with device   \n",
       "\n",
       "              Android Ver  \n",
       "10836          4.1 and up  \n",
       "10837          4.1 and up  \n",
       "10838          2.2 and up  \n",
       "10839  Varies with device  \n",
       "10840  Varies with device  "
      ]
     },
     "execution_count": 18,
     "metadata": {},
     "output_type": "execute_result"
    }
   ],
   "source": [
    "original.tail()"
   ]
  },
  {
   "cell_type": "code",
   "execution_count": 19,
   "metadata": {},
   "outputs": [
    {
     "data": {
      "text/plain": [
       "App                object\n",
       "Category           object\n",
       "Rating            float64\n",
       "Reviews             int32\n",
       "Size              float64\n",
       "Installs            int32\n",
       "Type               object\n",
       "Price             float64\n",
       "Content Rating     object\n",
       "Genres             object\n",
       "Last Updated       object\n",
       "Current Ver        object\n",
       "Android Ver        object\n",
       "dtype: object"
      ]
     },
     "execution_count": 19,
     "metadata": {},
     "output_type": "execute_result"
    }
   ],
   "source": [
    "original.dtypes"
   ]
  },
  {
   "cell_type": "markdown",
   "metadata": {},
   "source": [
    "# Describe statistics"
   ]
  },
  {
   "cell_type": "code",
   "execution_count": 20,
   "metadata": {},
   "outputs": [
    {
     "data": {
      "text/html": [
       "<div>\n",
       "<style scoped>\n",
       "    .dataframe tbody tr th:only-of-type {\n",
       "        vertical-align: middle;\n",
       "    }\n",
       "\n",
       "    .dataframe tbody tr th {\n",
       "        vertical-align: top;\n",
       "    }\n",
       "\n",
       "    .dataframe thead th {\n",
       "        text-align: right;\n",
       "    }\n",
       "</style>\n",
       "<table border=\"1\" class=\"dataframe\">\n",
       "  <thead>\n",
       "    <tr style=\"text-align: right;\">\n",
       "      <th></th>\n",
       "      <th>Rating</th>\n",
       "      <th>Reviews</th>\n",
       "      <th>Size</th>\n",
       "      <th>Installs</th>\n",
       "      <th>Price</th>\n",
       "    </tr>\n",
       "  </thead>\n",
       "  <tbody>\n",
       "    <tr>\n",
       "      <th>n</th>\n",
       "      <td>10829</td>\n",
       "      <td>10829</td>\n",
       "      <td>10829</td>\n",
       "      <td>10829</td>\n",
       "      <td>10829</td>\n",
       "    </tr>\n",
       "    <tr>\n",
       "      <th>(min,max)</th>\n",
       "      <td>(1.0, 5.0)</td>\n",
       "      <td>(0, 78158306)</td>\n",
       "      <td>(1.0, 1020000.0)</td>\n",
       "      <td>(0, 1000000000)</td>\n",
       "      <td>(0.0, 400.0)</td>\n",
       "    </tr>\n",
       "    <tr>\n",
       "      <th>mean</th>\n",
       "      <td>4.19159</td>\n",
       "      <td>444602</td>\n",
       "      <td>13052.3</td>\n",
       "      <td>1.54799e+07</td>\n",
       "      <td>1.02809</td>\n",
       "    </tr>\n",
       "    <tr>\n",
       "      <th>variance</th>\n",
       "      <td>0.229477</td>\n",
       "      <td>8.58029e+12</td>\n",
       "      <td>8.37205e+09</td>\n",
       "      <td>7.2371e+15</td>\n",
       "      <td>254.651</td>\n",
       "    </tr>\n",
       "    <tr>\n",
       "      <th>skewness</th>\n",
       "      <td>-1.98814</td>\n",
       "      <td>16.4391</td>\n",
       "      <td>8.01405</td>\n",
       "      <td>9.56582</td>\n",
       "      <td>23.6921</td>\n",
       "    </tr>\n",
       "    <tr>\n",
       "      <th>kurtosis</th>\n",
       "      <td>7.16014</td>\n",
       "      <td>340.559</td>\n",
       "      <td>67.3909</td>\n",
       "      <td>100.128</td>\n",
       "      <td>577.286</td>\n",
       "    </tr>\n",
       "  </tbody>\n",
       "</table>\n",
       "</div>"
      ],
      "text/plain": [
       "               Rating        Reviews              Size         Installs  \\\n",
       "n               10829          10829             10829            10829   \n",
       "(min,max)  (1.0, 5.0)  (0, 78158306)  (1.0, 1020000.0)  (0, 1000000000)   \n",
       "mean          4.19159         444602           13052.3      1.54799e+07   \n",
       "variance     0.229477    8.58029e+12       8.37205e+09       7.2371e+15   \n",
       "skewness     -1.98814        16.4391           8.01405          9.56582   \n",
       "kurtosis      7.16014        340.559           67.3909          100.128   \n",
       "\n",
       "                  Price  \n",
       "n                 10829  \n",
       "(min,max)  (0.0, 400.0)  \n",
       "mean            1.02809  \n",
       "variance        254.651  \n",
       "skewness        23.6921  \n",
       "kurtosis        577.286  "
      ]
     },
     "execution_count": 20,
     "metadata": {},
     "output_type": "execute_result"
    }
   ],
   "source": [
    "de1=list(stats.describe(original.loc[:,'Rating']))\n",
    "de2=list(stats.describe(original.loc[:,'Reviews']))\n",
    "de3=list(stats.describe(original.loc[:,'Size']))\n",
    "de4=list(stats.describe(original.loc[:,'Installs']))\n",
    "de5=list(stats.describe(original.loc[:,'Price']))\n",
    "des=pd.DataFrame()\n",
    "des['Rating']=de1\n",
    "des['Reviews']=de2\n",
    "des['Size']=de3\n",
    "des['Installs']=de4\n",
    "des['Price']=de5\n",
    "x=['n','(min,max)','mean','variance','skewness','kurtosis']\n",
    "des.index=x\n",
    "des"
   ]
  },
  {
   "cell_type": "code",
   "execution_count": 21,
   "metadata": {},
   "outputs": [],
   "source": [
    "def cv(data):\n",
    "    standard=data.std()\n",
    "    xbar=data.mean()\n",
    "    return round((standard/xbar)*100,2)"
   ]
  },
  {
   "cell_type": "code",
   "execution_count": 22,
   "metadata": {},
   "outputs": [
    {
     "name": "stdout",
     "output_type": "stream",
     "text": [
      "coefficient of variation\n",
      "=============================\n",
      "Rating:11.43%\n",
      "Reviews:658.84%\n",
      "Size:701.02%\n",
      "Installs:549.56%\n",
      "Price:1552.18%\n",
      "=============================\n"
     ]
    }
   ],
   "source": [
    "print('coefficient of variation')\n",
    "print('=============================')\n",
    "print('Rating:%1.2f%%'%cv(original['Rating']))\n",
    "print('Reviews:%1.2f%%'%cv(original['Reviews']))\n",
    "print('Size:%1.2f%%'%cv(original['Size']))\n",
    "print('Installs:%1.2f%%'%cv(original['Installs']))\n",
    "print('Price:%1.2f%%'%cv(original['Price']))\n",
    "print('=============================')"
   ]
  },
  {
   "cell_type": "code",
   "execution_count": 23,
   "metadata": {},
   "outputs": [
    {
     "name": "stderr",
     "output_type": "stream",
     "text": [
      "c:\\users\\az11438\\appdata\\local\\programs\\python\\python37-32\\lib\\site-packages\\scipy\\stats\\stats.py:1713: FutureWarning: Using a non-tuple sequence for multidimensional indexing is deprecated; use `arr[tuple(seq)]` instead of `arr[seq]`. In the future this will be interpreted as an array index, `arr[np.array(seq)]`, which will result either in an error or a different result.\n",
      "  return np.add.reduce(sorted[indexer] * weights, axis=axis) / sumval\n"
     ]
    },
    {
     "data": {
      "image/png": "[encoded data removed]",
      "text/plain": [
       "<Figure size 1080x2520 with 5 Axes>"
      ]
     },
     "metadata": {
      "needs_background": "light"
     },
     "output_type": "display_data"
    }
   ],
   "source": [
    "x=['Rating','Reviews','Size','Installs','Price']\n",
    "z0=plt.figure(figsize=(15,35))\n",
    "for i in range(len(x)):\n",
    "    z0.add_subplot(6,1,i+1)\n",
    "    sns.distplot(original[str(x[i])])\n",
    "    plt.title('%s distribution plot'%str(x[i]))\n",
    "else:\n",
    "    pass\n",
    "z0.savefig('./charts/googleplay_distribution.png')\n",
    "plt.show()"
   ]
  },
  {
   "cell_type": "markdown",
   "metadata": {},
   "source": [
    "# Describe Statistics Summary\n",
    "\n",
    "- data except Rating is dispersion\n",
    "\n",
    "\n",
    "- Rating is negative distribution\n",
    "\n",
    "  and other data are possitive distribution\n",
    "\n",
    "\n",
    "- All of data kurtosis are leptokurtic\n",
    "\n",
    "\n",
    "- Range of data except rating is large"
   ]
  },
  {
   "cell_type": "markdown",
   "metadata": {},
   "source": [
    "# Question Definition\n",
    "\n",
    "\n",
    "- Which category has the highest average rating?\n",
    "\n",
    "\n",
    "- What is the interval of all apps rating mean?\n",
    "\n",
    "\n",
    "- Is the mean of all apps rating similar to data's mean?\n",
    "\n",
    "\n",
    "- Is rating and reviews has correlation?\n",
    "\n"
   ]
  },
  {
   "cell_type": "markdown",
   "metadata": {},
   "source": [
    "# Category--rating"
   ]
  },
  {
   "cell_type": "code",
   "execution_count": 28,
   "metadata": {},
   "outputs": [],
   "source": [
    "cateRating=pd.DataFrame(original.groupby(by='Category').mean()['Rating'])"
   ]
  },
  {
   "cell_type": "code",
   "execution_count": 31,
   "metadata": {},
   "outputs": [],
   "source": [
    "RatingSort=cateRating.sort_values(by='Rating',ascending=False)"
   ]
  },
  {
   "cell_type": "code",
   "execution_count": 44,
   "metadata": {},
   "outputs": [
    {
     "data": {
      "image/png": "[encoded data removed]",
      "text/plain": [
       "<Figure size 1080x1008 with 1 Axes>"
      ]
     },
     "metadata": {
      "needs_background": "light"
     },
     "output_type": "display_data"
    }
   ],
   "source": [
    "z1=RatingSort.plot.barh(figsize=(15,14),legend=False)\n",
    "z1.get_figure()\n",
    "plt.title('Category average Rating bar graph',fontsize='large')\n",
    "plt.xticks(np.linspace(0,5,15))\n",
    "r=np.array(RatingSort['Rating'])\n",
    "x=np.arange(RatingSort.index.shape[0])\n",
    "for i,j in zip(x,r):\n",
    "    plt.text(j+0.07,i-0.05,'%1.2f'%j,ha='center',color='blue')\n",
    "else:\n",
    "    pass\n",
    "plt.savefig('./charts/average_rating_by_category.png')\n",
    "plt.show()"
   ]
  },
  {
   "cell_type": "markdown",
   "metadata": {},
   "source": [
    "# Category rating Summary\n",
    "\n",
    "- Education apps has highest average rating than other category\n",
    "\n",
    "\n",
    "- Dating apps has lowest average rating than other category\n",
    "\n",
    "\n",
    "- Game apps is 6th,which is higher than health apps"
   ]
  },
  {
   "cell_type": "markdown",
   "metadata": {},
   "source": [
    "# confidence interval for population mean\n",
    "\n",
    "alpha=0.05"
   ]
  },
  {
   "cell_type": "code",
   "execution_count": 57,
   "metadata": {},
   "outputs": [
    {
     "name": "stdout",
     "output_type": "stream",
     "text": [
      "sample mean: 4.191588327638747\n",
      "\n",
      "Rating 95% confidence interval:\n"
     ]
    },
    {
     "data": {
      "text/plain": [
       "(4.1912996652398204, 4.191876990037673)"
      ]
     },
     "execution_count": 57,
     "metadata": {},
     "output_type": "execute_result"
    }
   ],
   "source": [
    "print('sample mean:',original.loc[:,'Rating'].mean())\n",
    "print()\n",
    "print('Rating 95% confidence interval:')\n",
    "stats.norm.interval(0.05,loc=original.loc[:,'Rating'].mean(),scale=stats.sem(original.loc[:,'Rating']))"
   ]
  },
  {
   "cell_type": "markdown",
   "metadata": {},
   "source": [
    "# interval for all apps mean Summary\n",
    "\n",
    "Set the confidence coefficient to 0.05,\n",
    "\n",
    "means 95% confidence interval,\n",
    "\n",
    "with using stats.norm.interval,\n",
    "\n",
    "95% confidence interval is \n",
    "\n",
    "(4.19129~4.19187)\n",
    "\n",
    "Because sample data is large,\n",
    "\n",
    "using the z score,\n",
    "\n",
    "so confidnece interval is small.\n"
   ]
  },
  {
   "cell_type": "markdown",
   "metadata": {},
   "source": [
    "# Test\n",
    "\n",
    "\n",
    "All apps rating mean=mu1\n",
    "\n",
    "H0:mu1=4.19\n",
    "\n",
    "H1:mu1!=4.19\n",
    "\n",
    "alpha=0.05\n",
    "\n",
    "(two-side test)"
   ]
  },
  {
   "cell_type": "code",
   "execution_count": 49,
   "metadata": {},
   "outputs": [],
   "source": [
    "def zstar(data):\n",
    "    para=4.2\n",
    "    up=data.mean()-para\n",
    "    down=data.std()/math.sqrt(len(data))\n",
    "    return up/down"
   ]
  },
  {
   "cell_type": "code",
   "execution_count": 51,
   "metadata": {},
   "outputs": [
    {
     "name": "stdout",
     "output_type": "stream",
     "text": [
      "| -1.827286383161421 | > 0.39881763041638185\n",
      "reject H0\n"
     ]
    }
   ],
   "source": [
    "alpha=0.05\n",
    "teststats=zstar(original.loc[:,'Rating'])\n",
    "zalpha=stats.norm.pdf(alpha/2)\n",
    "if math.fabs(teststats)<=zalpha:\n",
    "    print('|',teststats,'|','<=',zalpha)\n",
    "    print('not reject H0')\n",
    "else:\n",
    "    print('|',teststats,'|','>',zalpha)\n",
    "    print('reject H0')"
   ]
  },
  {
   "cell_type": "markdown",
   "metadata": {},
   "source": [
    "# Test summary\n",
    "\n",
    "With using two-side test,\n",
    "\n",
    "with alpha=0.05,\n",
    "\n",
    "test statistics is in reject region,\n",
    "\n",
    "which means population mean is different from sample mean"
   ]
  },
  {
   "cell_type": "markdown",
   "metadata": {},
   "source": [
    "# Correlation"
   ]
  },
  {
   "cell_type": "code",
   "execution_count": 65,
   "metadata": {},
   "outputs": [],
   "source": [
    "x=original.loc[:,['Rating','Reviews']].corr()\n",
    "r=x.iloc[1,0]"
   ]
  },
  {
   "cell_type": "code",
   "execution_count": 66,
   "metadata": {},
   "outputs": [],
   "source": [
    "def b1(data1,data2,r):\n",
    "    return r*(data2.std()/data1.std())\n",
    "def b2(co1,data1,data2):\n",
    "    return data2.mean()-(co1*data1.mean())"
   ]
  },
  {
   "cell_type": "code",
   "execution_count": 67,
   "metadata": {},
   "outputs": [
    {
     "name": "stdout",
     "output_type": "stream",
     "text": [
      "-1300547.4393746746 + 416345.5639488423 x\n"
     ]
    }
   ],
   "source": [
    "coe1=b1(original['Rating'],original['Reviews'],r)\n",
    "coe2=b2(coe1,original['Rating'],original['Reviews'])\n",
    "print(coe2,'+',coe1,'x')"
   ]
  },
  {
   "cell_type": "code",
   "execution_count": 69,
   "metadata": {},
   "outputs": [
    {
     "data": {
      "image/png": "[encoded data removed]",
      "text/plain": [
       "<Figure size 1080x1008 with 1 Axes>"
      ]
     },
     "metadata": {},
     "output_type": "display_data"
    }
   ],
   "source": [
    "x=np.array(original['Rating'])\n",
    "y=np.array(original['Reviews'])\n",
    "x1=np.linspace(np.min(x),np.max(x),1000)\n",
    "y1=x1*coe1+coe2\n",
    "z2=plt.figure(figsize=(15,14))\n",
    "plt.scatter(x,y)\n",
    "plt.plot(x1,y1)\n",
    "plt.title('scatter(rating,reviews)')\n",
    "plt.xlabel('Rating')\n",
    "plt.ylabel('Reviews')\n",
    "plt.savefig('./charts/rating_reviews_scatter.png')\n",
    "plt.show()"
   ]
  },
  {
   "cell_type": "code",
   "execution_count": 76,
   "metadata": {},
   "outputs": [
    {
     "data": {
      "text/html": [
       "<div>\n",
       "<style scoped>\n",
       "    .dataframe tbody tr th:only-of-type {\n",
       "        vertical-align: middle;\n",
       "    }\n",
       "\n",
       "    .dataframe tbody tr th {\n",
       "        vertical-align: top;\n",
       "    }\n",
       "\n",
       "    .dataframe thead th {\n",
       "        text-align: right;\n",
       "    }\n",
       "</style>\n",
       "<table border=\"1\" class=\"dataframe\">\n",
       "  <thead>\n",
       "    <tr style=\"text-align: right;\">\n",
       "      <th></th>\n",
       "      <th>Rating</th>\n",
       "      <th>Reviews</th>\n",
       "      <th>predict</th>\n",
       "      <th>Residual</th>\n",
       "    </tr>\n",
       "  </thead>\n",
       "  <tbody>\n",
       "    <tr>\n",
       "      <th>3889</th>\n",
       "      <td>4.40</td>\n",
       "      <td>5453997</td>\n",
       "      <td>531373.042000</td>\n",
       "      <td>4.922624e+06</td>\n",
       "    </tr>\n",
       "    <tr>\n",
       "      <th>8315</th>\n",
       "      <td>4.50</td>\n",
       "      <td>375996</td>\n",
       "      <td>573007.598395</td>\n",
       "      <td>-1.970116e+05</td>\n",
       "    </tr>\n",
       "    <tr>\n",
       "      <th>3654</th>\n",
       "      <td>4.50</td>\n",
       "      <td>309617</td>\n",
       "      <td>573007.598395</td>\n",
       "      <td>-2.633906e+05</td>\n",
       "    </tr>\n",
       "    <tr>\n",
       "      <th>6962</th>\n",
       "      <td>4.19</td>\n",
       "      <td>0</td>\n",
       "      <td>443940.473571</td>\n",
       "      <td>-4.439405e+05</td>\n",
       "    </tr>\n",
       "    <tr>\n",
       "      <th>7604</th>\n",
       "      <td>4.50</td>\n",
       "      <td>121533</td>\n",
       "      <td>573007.598395</td>\n",
       "      <td>-4.514746e+05</td>\n",
       "    </tr>\n",
       "  </tbody>\n",
       "</table>\n",
       "</div>"
      ],
      "text/plain": [
       "      Rating  Reviews        predict      Residual\n",
       "3889    4.40  5453997  531373.042000  4.922624e+06\n",
       "8315    4.50   375996  573007.598395 -1.970116e+05\n",
       "3654    4.50   309617  573007.598395 -2.633906e+05\n",
       "6962    4.19        0  443940.473571 -4.439405e+05\n",
       "7604    4.50   121533  573007.598395 -4.514746e+05"
      ]
     },
     "execution_count": 76,
     "metadata": {},
     "output_type": "execute_result"
    }
   ],
   "source": [
    "sampledata=original.loc[:,['Rating','Reviews']].sample(1000)\n",
    "sampledata['predict']=sampledata['Rating']*coe1+coe2\n",
    "sampledata['Residual']=sampledata['Reviews']-sampledata['predict']\n",
    "sampledata.head()"
   ]
  },
  {
   "cell_type": "code",
   "execution_count": 78,
   "metadata": {},
   "outputs": [
    {
     "data": {
      "text/plain": [
       "DescribeResult(nobs=1000, minmax=(-781179.3803695368, 27149256.401604883), mean=-96031.49026652216, variance=2989949699185.471, skewness=9.761621574409446, kurtosis=115.59590764263936)"
      ]
     },
     "execution_count": 78,
     "metadata": {},
     "output_type": "execute_result"
    }
   ],
   "source": [
    "stats.describe(sampledata['Residual'])"
   ]
  },
  {
   "cell_type": "markdown",
   "metadata": {},
   "source": [
    "# Correlation summary\n",
    "\n",
    "- Reviews and Rating has small correlation\n",
    "\n",
    "\n",
    "- With using least-squares,\n",
    "\n",
    "  the scatter shows that a lot part of data is higher than predict value\n",
    "  \n",
    "  \n",
    "  \n",
    "- With describing residual,range is large,\n",
    "\n",
    "  and mean is -96031,\n",
    "  \n",
    "  which means using least-squares to predict is less effect."
   ]
  },
  {
   "cell_type": "code",
   "execution_count": null,
   "metadata": {},
   "outputs": [],
   "source": []
  }
 ],
 "metadata": {
  "kernelspec": {
   "display_name": "Python 3",
   "language": "python",
   "name": "python3"
  },
  "language_info": {
   "codemirror_mode": {
    "name": "ipython",
    "version": 3
   },
   "file_extension": ".py",
   "mimetype": "text/x-python",
   "name": "python",
   "nbconvert_exporter": "python",
   "pygments_lexer": "ipython3",
   "version": "3.7.1"
  }
 },
 "nbformat": 4,
 "nbformat_minor": 2
}
